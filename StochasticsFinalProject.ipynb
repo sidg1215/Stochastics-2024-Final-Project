{
  "nbformat": 4,
  "nbformat_minor": 0,
  "metadata": {
    "colab": {
      "provenance": []
    },
    "kernelspec": {
      "name": "python3",
      "display_name": "Python 3"
    },
    "language_info": {
      "name": "python"
    }
  },
  "cells": [
    {
      "cell_type": "markdown",
      "source": [
        "# Stochastics Final Project\n",
        "## Option price prediction\n",
        "\n",
        "### Siddharth Gupta, Pranav Phadke"
      ],
      "metadata": {
        "id": "MqU6hc_WyjQ3"
      }
    },
    {
      "cell_type": "markdown",
      "source": [
        "#### 1) Get the data for stocks"
      ],
      "metadata": {
        "id": "e5k9vyNRzq4I"
      }
    },
    {
      "cell_type": "code",
      "execution_count": 107,
      "metadata": {
        "id": "1mTxOUBuycI6"
      },
      "outputs": [],
      "source": [
        "import yfinance as yf\n",
        "import numpy as np\n",
        "from scipy.stats import norm\n",
        "import pandas as pd\n"
      ]
    },
    {
      "cell_type": "code",
      "source": [
        "interest_rate = 0.0517"
      ],
      "metadata": {
        "id": "ChVKmA2uh29o"
      },
      "execution_count": 108,
      "outputs": []
    },
    {
      "cell_type": "code",
      "source": [
        "# x_0: current price\n",
        "# sigma: standard deviation/ volatility\n",
        "# T: time till expiration (in years)\n",
        "# K: Strike price\n",
        "# a: interest rate\n",
        "def black_scholes(x_0, sigma, T, K, a=interest_rate):\n",
        "  b = (np.log(x_0/K) + (a - (sigma ** 2)/2) * T)/(sigma * (T ** 0.5))\n",
        "  c = (x_0 * norm.cdf(sigma * (T ** 0.5) + b)) - (K * np.exp(-a * T) * norm.cdf(b))\n",
        "  return c\n"
      ],
      "metadata": {
        "id": "y6B_I8B5_UvH"
      },
      "execution_count": 109,
      "outputs": []
    },
    {
      "cell_type": "code",
      "source": [
        "print(\"Same expiration date, different strike prices (DAL)\")\n",
        "# Today is 4/22/24\n",
        "delta = yf.Ticker('DAL')\n",
        "delta_closing_prices = delta.history(period=\"60d\", auto_adjust=True)['Close'].pct_change()\n",
        "delta_volatility = np.std(delta_closing_prices)\n",
        "\n",
        "# Closing price of Delta on 4/22/24\n",
        "delta_close = 49.02\n",
        "\n",
        "delta_call_1 = black_scholes(delta_close, delta_volatility, 4/365, 40)\n",
        "delta_call_2 = black_scholes(delta_close, delta_volatility, 4/365, 54)\n",
        "delta_call_3 = black_scholes(delta_close, delta_volatility, 4/365, 45)\n",
        "\n",
        "print(\"Delta Volatility: \", delta_volatility)\n",
        "print(\"Interest Rate: \", interest_rate)\n",
        "\n",
        "current_prices = [delta_close] * 3\n",
        "strike_prices = [40, 54, 45]\n",
        "expiration_dates = [\"4/26/24\"] * 3\n",
        "our_predictions = [delta_call_1, delta_call_2, delta_call_3]\n",
        "yahoo_prices = [9.10, 0.01, 4.15]\n",
        "\n",
        "data = {'Current Price': current_prices, 'Strike Price': strike_prices,\n",
        "        'Expiration Date': expiration_dates, 'Our Prediction': our_predictions, 'Yahoo Price': yahoo_prices}\n",
        "df = pd.DataFrame(data)\n",
        "df.index += 1\n",
        "print(df)"
      ],
      "metadata": {
        "id": "MJQeUm5XKLsn",
        "colab": {
          "base_uri": "https://localhost:8080/"
        },
        "outputId": "837977b0-6b63-46c7-fa56-3b2daa3c4bb6"
      },
      "execution_count": 110,
      "outputs": [
        {
          "output_type": "stream",
          "name": "stdout",
          "text": [
            "Same expiration date, different strike prices (DAL)\n",
            "Delta Volatility:  0.015000502784975831\n",
            "Interest Rate:  0.0517\n",
            "   Current Price  Strike Price Expiration Date  Our Prediction  Yahoo Price\n",
            "1          49.02            40         4/26/24        9.042657         9.10\n",
            "2          49.02            54         4/26/24        0.000000         0.01\n",
            "3          49.02            45         4/26/24        4.045489         4.15\n"
          ]
        }
      ]
    },
    {
      "cell_type": "code",
      "source": [
        "print(\"Same strike price, different expiration dates (DAL)\")\n",
        "delta_call_4 = black_scholes(delta_close, delta_volatility, 11/365, 40)\n",
        "delta_call_5 = black_scholes(delta_close, delta_volatility, 18/365, 40)\n",
        "delta_call_6 = black_scholes(delta_close, delta_volatility, 32/365, 40)\n",
        "\n",
        "print(\"Delta Volatility: \", delta_volatility)\n",
        "print(\"Interest Rate: \", interest_rate)\n",
        "\n",
        "current_prices = [delta_close] * 3\n",
        "strike_prices = [40, 40, 40]\n",
        "expiration_dates = [\"5/03/24\", \"5/10/24\", \"5/24/24\"]\n",
        "our_predictions = [delta_call_4, delta_call_5, delta_call_6]\n",
        "yahoo_prices = [9.25, 10.75, 9.70]\n",
        "\n",
        "data = {'Current Price': current_prices, 'Strike Price': strike_prices,\n",
        "        'Expiration Date': expiration_dates, 'Our Prediction': our_predictions, 'Yahoo Price': yahoo_prices}\n",
        "df = pd.DataFrame(data)\n",
        "df.index += 1\n",
        "print(df)"
      ],
      "metadata": {
        "id": "cyGQI0-9K4jF",
        "colab": {
          "base_uri": "https://localhost:8080/"
        },
        "outputId": "e8306ade-34ed-4234-9bc2-4fc7cbcc54e1"
      },
      "execution_count": 111,
      "outputs": [
        {
          "output_type": "stream",
          "name": "stdout",
          "text": [
            "Same strike price, different expiration dates (DAL)\n",
            "Delta Volatility:  0.015000502784975831\n",
            "Interest Rate:  0.0517\n",
            "   Current Price  Strike Price Expiration Date  Our Prediction  Yahoo Price\n",
            "1          49.02            40         5/03/24        9.082275         9.25\n",
            "2          49.02            40         5/10/24        9.121854        10.75\n",
            "3          49.02            40         5/24/24        9.200894         9.70\n"
          ]
        }
      ]
    },
    {
      "cell_type": "code",
      "source": [
        "# Today is 4/22/24\n",
        "print(\"Same expiration date, different strike prices (AAPL)\")\n",
        "apple = yf.Ticker('AAPL')\n",
        "apple_closing_prices = apple.history(period=\"60d\", auto_adjust=True)['Close'].pct_change()\n",
        "apple_volatility = np.std(apple_closing_prices)\n",
        "print(apple_volatility)\n",
        "\n",
        "# Closing price of Apple on 4/22/24\n",
        "apple_close = 165.84\n",
        "\n",
        "apple_call_1 = black_scholes(apple_close, apple_volatility, 4/365, 100)\n",
        "apple_call_2 = black_scholes(apple_close, apple_volatility, 4/365, 150)\n",
        "apple_call_3 = black_scholes(apple_close, apple_volatility, 4/365, 180)\n",
        "\n",
        "print(\"Apple Volatility: \", apple_volatility)\n",
        "print(\"Interest Rate: \", interest_rate)\n",
        "\n",
        "current_prices = [apple_close] * 3\n",
        "strike_prices = [100, 150, 180]\n",
        "expiration_dates = [\"4/26/24\"] * 3\n",
        "our_predictions = [apple_call_1, apple_call_2, apple_call_3]\n",
        "yahoo_prices = [66.80, 16.60, 0.03]\n",
        "\n",
        "data = {'Current Price': current_prices, 'Strike Price': strike_prices,\n",
        "        'Expiration Date': expiration_dates, 'Our Prediction': our_predictions, 'Yahoo Price': yahoo_prices}\n",
        "df = pd.DataFrame(data)\n",
        "df.index += 1\n",
        "print(df)"
      ],
      "metadata": {
        "colab": {
          "base_uri": "https://localhost:8080/"
        },
        "id": "oJcdngGEaAor",
        "outputId": "69c5cfb8-36b7-4e83-ecc3-58e0450bd4ff"
      },
      "execution_count": 112,
      "outputs": [
        {
          "output_type": "stream",
          "name": "stdout",
          "text": [
            "Same expiration date, different strike prices (AAPL)\n",
            "0.012970847005522564\n",
            "Apple Volatility:  0.012970847005522564\n",
            "Interest Rate:  0.0517\n",
            "   Current Price  Strike Price Expiration Date  Our Prediction  Yahoo Price\n",
            "1         165.84           100         4/26/24       65.896641        66.80\n",
            "2         165.84           150         4/26/24       15.924962        16.60\n",
            "3         165.84           180         4/26/24        0.000000         0.03\n"
          ]
        }
      ]
    },
    {
      "cell_type": "code",
      "source": [
        "print(\"Same strike price, different expiration dates (AAPL)\")\n",
        "\n",
        "apple_call_4 = black_scholes(apple_close, apple_volatility, 11/365, 100)\n",
        "apple_call_5 = black_scholes(apple_close, apple_volatility, 18/365, 100)\n",
        "apple_call_6 = black_scholes(apple_close, apple_volatility, 25/365, 100)\n",
        "\n",
        "print(\"Apple Volatility: \", apple_volatility)\n",
        "print(\"Interest Rate: \", interest_rate)\n",
        "\n",
        "current_prices = [apple_close] * 3\n",
        "strike_prices = [100, 100, 100]\n",
        "expiration_dates = [\"5/03/24\", \"5/10/24\", \"5/17/24\"]\n",
        "our_predictions = [apple_call_4, apple_call_5, apple_call_6]\n",
        "yahoo_prices = [66.20, 66.55, 66.35]\n",
        "\n",
        "data = {'Current Price': current_prices, 'Strike Price': strike_prices,\n",
        "        'Expiration Date': expiration_dates, 'Our Prediction': our_predictions, 'Yahoo Price': yahoo_prices}\n",
        "df = pd.DataFrame(data)\n",
        "df.index += 1\n",
        "print(df)"
      ],
      "metadata": {
        "colab": {
          "base_uri": "https://localhost:8080/"
        },
        "id": "ziCiwPvnaAwK",
        "outputId": "21782a6d-427f-4b0f-e4bc-11b02e79942b"
      },
      "execution_count": 113,
      "outputs": [
        {
          "output_type": "stream",
          "name": "stdout",
          "text": [
            "Same strike price, different expiration dates (AAPL)\n",
            "Apple Volatility:  0.012970847005522564\n",
            "Interest Rate:  0.0517\n",
            "   Current Price  Strike Price Expiration Date  Our Prediction  Yahoo Price\n",
            "1         165.84           100         5/03/24       65.995687        66.20\n",
            "2         165.84           100         5/10/24       66.094634        66.55\n",
            "3         165.84           100         5/17/24       66.193483        66.35\n"
          ]
        }
      ]
    },
    {
      "cell_type": "code",
      "source": [],
      "metadata": {
        "id": "unVrHTiIaA0m"
      },
      "execution_count": 113,
      "outputs": []
    }
  ]
}